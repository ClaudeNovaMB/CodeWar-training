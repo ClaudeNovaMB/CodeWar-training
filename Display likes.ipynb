{
 "cells": [
  {
   "cell_type": "markdown",
   "metadata": {},
   "source": [
    "# Codewars\n",
    "Goal: Display likes.\n",
    "\n",
    "Example 1: [] = 'no one likes this'\n",
    "\n",
    "Example 2: [John] = 'John likes this'\n",
    "\n",
    "Example 3: [Mark, James] = 'Mark and James like this'\n",
    "\n",
    "Example 4: [Mark, James, Peter] = 'Mark, James and Peter like this'\n",
    "\n",
    "Example 5: [Mark, James, Peter, John] = 'Mark, James and 2 others like this'\n"
   ]
  },
  {
   "cell_type": "code",
   "execution_count": null,
   "metadata": {},
   "outputs": [],
   "source": [
    "def likes(names):\n",
    "    \n",
    "    if len(names) < 1:\n",
    "        return 'no one likes this'\n",
    "    elif len(names) == 1:   \n",
    "        return '{} likes this'.format(names[0])\n",
    "    elif len(names) == 2:\n",
    "        return '{} and {} like this'.format(names[0],names[1])\n",
    "    elif len(names) == 3:\n",
    "        return '{}, {} and {} like this'.format(names[0],names[1],names[2])\n",
    "    elif len(names) >= 4:\n",
    "        return '{}, {} and {} others like this'.format(names[0],names[1],len(names)-2)"
   ]
  }
 ],
 "metadata": {
  "kernelspec": {
   "display_name": "Python 3",
   "language": "python",
   "name": "python3"
  },
  "language_info": {
   "codemirror_mode": {
    "name": "ipython",
    "version": 3
   },
   "file_extension": ".py",
   "mimetype": "text/x-python",
   "name": "python",
   "nbconvert_exporter": "python",
   "pygments_lexer": "ipython3",
   "version": "3.7.1"
  }
 },
 "nbformat": 4,
 "nbformat_minor": 2
}
