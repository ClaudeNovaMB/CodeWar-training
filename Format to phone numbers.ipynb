{
 "cells": [
  {
   "cell_type": "markdown",
   "metadata": {},
   "source": [
    "# Codewars\n",
    "Goal: Create a phone number from an array of numbers.\n",
    "\n",
    "Examples: \n",
    "[1, 2, 3, 4, 5, 6, 7, 8, 9, 0] should return \"(123) 456-7890\" <br>\n",
    "[1, 1, 1, 1, 1, 1, 1, 1, 1, 1] should return \"(111) 111-1111\" <br>\n",
    "[1, 2, 3, 4, 5, 6, 7, 8, 9, 0] should return \"(123) 456-7890\" <br>\n",
    "[0, 2, 3, 0, 5, 6, 0, 8, 9, 0] should return \"(023) 056-0890\" <br>\n",
    "[0, 0, 0, 0, 0, 0, 0, 0, 0, 0] should return \"(000) 000-0000\" <br>"
   ]
  },
  {
   "cell_type": "code",
   "execution_count": 9,
   "metadata": {},
   "outputs": [
    {
     "data": {
      "text/plain": [
       "'(023) 056-0890'"
      ]
     },
     "execution_count": 9,
     "metadata": {},
     "output_type": "execute_result"
    }
   ],
   "source": [
    "def create_phone_number(n):\n",
    "    return\"({}{}{}) {}{}{}-{}{}{}{}\".format(*n)"
   ]
  }
 ],
 "metadata": {
  "kernelspec": {
   "display_name": "Python 3",
   "language": "python",
   "name": "python3"
  },
  "language_info": {
   "codemirror_mode": {
    "name": "ipython",
    "version": 3
   },
   "file_extension": ".py",
   "mimetype": "text/x-python",
   "name": "python",
   "nbconvert_exporter": "python",
   "pygments_lexer": "ipython3",
   "version": "3.7.1"
  }
 },
 "nbformat": 4,
 "nbformat_minor": 2
}
