{
 "cells": [
  {
   "cell_type": "markdown",
   "metadata": {},
   "source": [
    "# Codewars \n",
    "Goal: Define a function which returns the middle letter(s) of a string.\n",
    "\n",
    "Example 1: \"This_Is_A_Sting)\" The function should return \"s_\"\n",
    "\n",
    "Example 2: \"Middle\" The function should return \"dd\"\n",
    "\n",
    "Example 3: \"Seven\" The function should return \"v\""
   ]
  },
  {
   "cell_type": "code",
   "execution_count": 35,
   "metadata": {},
   "outputs": [
    {
     "name": "stdout",
     "output_type": "stream",
     "text": [
      "dd\n"
     ]
    }
   ],
   "source": [
    "s = 'middle'\n",
    "i = int(len(s)/2)\n",
    "if len(s) %2 == 0:\n",
    "    print(s[i-1]+s[i])\n",
    "else: \n",
    "    print(s[i])"
   ]
  }
 ],
 "metadata": {
  "kernelspec": {
   "display_name": "Python 3",
   "language": "python",
   "name": "python3"
  },
  "language_info": {
   "codemirror_mode": {
    "name": "ipython",
    "version": 3
   },
   "file_extension": ".py",
   "mimetype": "text/x-python",
   "name": "python",
   "nbconvert_exporter": "python",
   "pygments_lexer": "ipython3",
   "version": "3.7.1"
  }
 },
 "nbformat": 4,
 "nbformat_minor": 2
}
