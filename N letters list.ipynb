{
 "cells": [
  {
   "cell_type": "markdown",
   "metadata": {},
   "source": [
    "# Codewars \n",
    "Goal: Create a list of 2 characters per element.\n",
    "\n",
    "Example 1: \"String)\" The function should return ['St','ri','ng']\n",
    "\n",
    "Example 2: \"Great\" The function should return ['Gr','ea','t_']"
   ]
  },
  {
   "cell_type": "code",
   "execution_count": 9,
   "metadata": {},
   "outputs": [],
   "source": [
    "def stringsplit(inputStr):\n",
    "    #List comprehension. Splits string\n",
    "    n = 2\n",
    "    if len(inputStr)%2 != 0:\n",
    "        inputStr = inputStr + '_'\n",
    "    return [inputStr[l:l+n] for l in range(0,len(inputStr),n)]"
   ]
  }
 ],
 "metadata": {
  "kernelspec": {
   "display_name": "Python 3",
   "language": "python",
   "name": "python3"
  },
  "language_info": {
   "codemirror_mode": {
    "name": "ipython",
    "version": 3
   },
   "file_extension": ".py",
   "mimetype": "text/x-python",
   "name": "python",
   "nbconvert_exporter": "python",
   "pygments_lexer": "ipython3",
   "version": "3.7.1"
  }
 },
 "nbformat": 4,
 "nbformat_minor": 2
}
