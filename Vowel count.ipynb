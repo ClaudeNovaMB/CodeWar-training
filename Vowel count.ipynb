{
 "cells": [
  {
   "cell_type": "markdown",
   "metadata": {},
   "source": [
    "# Codewars \n",
    "Goal: Count each vowel in a string.\n",
    "\n",
    "Example 1: \"This_Is_A_Sting)\" The function should return 4\n",
    "\n",
    "Example 2: \"Middle\" The function should return 2\n",
    "\n",
    "Example 3: \"Seven\" The function should return 2"
   ]
  },
  {
   "cell_type": "code",
   "execution_count": 38,
   "metadata": {},
   "outputs": [],
   "source": [
    "def getCount(inputStr):\n",
    "    #List comprehension. Change letter to lower case before comparison\n",
    "    return sum(1 for n in inputStr if n.lower() in 'aeiou')"
   ]
  }
 ],
 "metadata": {
  "kernelspec": {
   "display_name": "Python 3",
   "language": "python",
   "name": "python3"
  },
  "language_info": {
   "codemirror_mode": {
    "name": "ipython",
    "version": 3
   },
   "file_extension": ".py",
   "mimetype": "text/x-python",
   "name": "python",
   "nbconvert_exporter": "python",
   "pygments_lexer": "ipython3",
   "version": "3.7.1"
  }
 },
 "nbformat": 4,
 "nbformat_minor": 2
}
